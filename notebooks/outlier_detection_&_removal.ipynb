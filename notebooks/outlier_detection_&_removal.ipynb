{
 "cells": [
  {
   "cell_type": "code",
   "execution_count": 2,
   "metadata": {},
   "outputs": [],
   "source": [
    "import pandas as pd\n",
    "import numpy as np"
   ]
  },
  {
   "cell_type": "code",
   "execution_count": 12,
   "metadata": {},
   "outputs": [],
   "source": [
    "import seaborn as sns"
   ]
  },
  {
   "cell_type": "code",
   "execution_count": 119,
   "metadata": {},
   "outputs": [],
   "source": [
    "df = pd.read_csv('real_estatesv7.csv')"
   ]
  },
  {
   "cell_type": "code",
   "execution_count": 22,
   "metadata": {},
   "outputs": [],
   "source": [
    "pd.set_option('display.max_columns', None)\n",
    "pd.set_option('display.max_rows', None)"
   ]
  },
  {
   "cell_type": "code",
   "execution_count": 24,
   "metadata": {},
   "outputs": [
    {
     "name": "stdout",
     "output_type": "stream",
     "text": [
      "<class 'pandas.core.frame.DataFrame'>\n",
      "RangeIndex: 18504 entries, 0 to 18503\n",
      "Data columns (total 24 columns):\n",
      " #   Column               Non-Null Count  Dtype  \n",
      "---  ------               --------------  -----  \n",
      " 0   property_type        18504 non-null  object \n",
      " 1   bhk                  18504 non-null  object \n",
      " 2   price                18504 non-null  float64\n",
      " 3   price_per_sqft       18504 non-null  float64\n",
      " 4   super_built_up_area  6586 non-null   float64\n",
      " 5   carpet_area          18504 non-null  float64\n",
      " 6   bedroom              18465 non-null  float64\n",
      " 7   bathroom             17781 non-null  float64\n",
      " 8   balconies            8521 non-null   float64\n",
      " 9   status               15796 non-null  object \n",
      " 10  transaction_type     18497 non-null  object \n",
      " 11  furnished_status     16811 non-null  object \n",
      " 12  address              18504 non-null  object \n",
      " 13  facing               10653 non-null  object \n",
      " 14  floorNum             15759 non-null  float64\n",
      " 15  society              11855 non-null  object \n",
      " 16  additional_room      4720 non-null   object \n",
      " 17  amenities            9536 non-null   object \n",
      " 18  localities           18112 non-null  object \n",
      " 19  regions              18504 non-null  object \n",
      " 20  lats                 18141 non-null  float64\n",
      " 21  longs                18141 non-null  float64\n",
      " 22  link                 18504 non-null  object \n",
      " 23  luxury_score         9536 non-null   float64\n",
      "dtypes: float64(11), object(13)\n",
      "memory usage: 3.4+ MB\n"
     ]
    }
   ],
   "source": [
    "df.info()"
   ]
  },
  {
   "cell_type": "code",
   "execution_count": 35,
   "metadata": {},
   "outputs": [],
   "source": [
    "df.drop(columns=['lats', 'longs', 'link','amenities','bhk','facing'], inplace=True)"
   ]
  },
  {
   "cell_type": "code",
   "execution_count": 5,
   "metadata": {},
   "outputs": [
    {
     "data": {
      "text/html": [
       "<div>\n",
       "<style scoped>\n",
       "    .dataframe tbody tr th:only-of-type {\n",
       "        vertical-align: middle;\n",
       "    }\n",
       "\n",
       "    .dataframe tbody tr th {\n",
       "        vertical-align: top;\n",
       "    }\n",
       "\n",
       "    .dataframe thead th {\n",
       "        text-align: right;\n",
       "    }\n",
       "</style>\n",
       "<table border=\"1\" class=\"dataframe\">\n",
       "  <thead>\n",
       "    <tr style=\"text-align: right;\">\n",
       "      <th></th>\n",
       "      <th>property_type</th>\n",
       "      <th>price</th>\n",
       "      <th>price_per_sqft</th>\n",
       "      <th>super_built_up_area</th>\n",
       "      <th>carpet_area</th>\n",
       "      <th>bedroom</th>\n",
       "      <th>bathroom</th>\n",
       "      <th>balconies</th>\n",
       "      <th>status</th>\n",
       "      <th>transaction_type</th>\n",
       "      <th>furnished_status</th>\n",
       "      <th>address</th>\n",
       "      <th>floorNum</th>\n",
       "      <th>society</th>\n",
       "      <th>additional_room</th>\n",
       "      <th>localities</th>\n",
       "      <th>regions</th>\n",
       "      <th>luxury_score</th>\n",
       "    </tr>\n",
       "  </thead>\n",
       "  <tbody>\n",
       "    <tr>\n",
       "      <th>0</th>\n",
       "      <td>flat</td>\n",
       "      <td>0.52</td>\n",
       "      <td>4333.0</td>\n",
       "      <td>NaN</td>\n",
       "      <td>1200.0</td>\n",
       "      <td>3.0</td>\n",
       "      <td>2.0</td>\n",
       "      <td>NaN</td>\n",
       "      <td>ready to move</td>\n",
       "      <td>resale</td>\n",
       "      <td>unfurnished</td>\n",
       "      <td>Kammasandra Main Road Shree Ananth Nagar Layou...</td>\n",
       "      <td>4.0</td>\n",
       "      <td>NaN</td>\n",
       "      <td>NaN</td>\n",
       "      <td>electronic city phase 2</td>\n",
       "      <td>bangalore</td>\n",
       "      <td>NaN</td>\n",
       "    </tr>\n",
       "    <tr>\n",
       "      <th>1</th>\n",
       "      <td>flat</td>\n",
       "      <td>1.64</td>\n",
       "      <td>12753.0</td>\n",
       "      <td>1608.0</td>\n",
       "      <td>1286.0</td>\n",
       "      <td>3.0</td>\n",
       "      <td>3.0</td>\n",
       "      <td>NaN</td>\n",
       "      <td>under construction</td>\n",
       "      <td>new property</td>\n",
       "      <td>unfurnished</td>\n",
       "      <td>Sarjapur Road, Bangalore - South, Karnataka</td>\n",
       "      <td>NaN</td>\n",
       "      <td>dsr the address</td>\n",
       "      <td>NaN</td>\n",
       "      <td>sarjapur road</td>\n",
       "      <td>bangalore</td>\n",
       "      <td>26.85</td>\n",
       "    </tr>\n",
       "    <tr>\n",
       "      <th>2</th>\n",
       "      <td>flat</td>\n",
       "      <td>1.41</td>\n",
       "      <td>14915.0</td>\n",
       "      <td>NaN</td>\n",
       "      <td>952.0</td>\n",
       "      <td>2.0</td>\n",
       "      <td>2.0</td>\n",
       "      <td>2.0</td>\n",
       "      <td>ready to move</td>\n",
       "      <td>new property</td>\n",
       "      <td>unfurnished</td>\n",
       "      <td>Begur - Koppa Rd, Suraksha nagar, Yelenahalli,...</td>\n",
       "      <td>4.0</td>\n",
       "      <td>NaN</td>\n",
       "      <td>NaN</td>\n",
       "      <td>begur hulimavu road</td>\n",
       "      <td>bangalore</td>\n",
       "      <td>NaN</td>\n",
       "    </tr>\n",
       "    <tr>\n",
       "      <th>3</th>\n",
       "      <td>flat</td>\n",
       "      <td>0.67</td>\n",
       "      <td>5940.0</td>\n",
       "      <td>1410.0</td>\n",
       "      <td>1128.0</td>\n",
       "      <td>3.0</td>\n",
       "      <td>2.0</td>\n",
       "      <td>NaN</td>\n",
       "      <td>ready to move</td>\n",
       "      <td>new property</td>\n",
       "      <td>unfurnished</td>\n",
       "      <td>Electronic City, Bangalore, Electronics City P...</td>\n",
       "      <td>1.0</td>\n",
       "      <td>sri sai nandana royal</td>\n",
       "      <td>NaN</td>\n",
       "      <td>electronics city phase 1</td>\n",
       "      <td>bangalore</td>\n",
       "      <td>NaN</td>\n",
       "    </tr>\n",
       "    <tr>\n",
       "      <th>4</th>\n",
       "      <td>villa</td>\n",
       "      <td>1.05</td>\n",
       "      <td>10938.0</td>\n",
       "      <td>1200.0</td>\n",
       "      <td>960.0</td>\n",
       "      <td>3.0</td>\n",
       "      <td>3.0</td>\n",
       "      <td>2.0</td>\n",
       "      <td>ready to move</td>\n",
       "      <td>new property</td>\n",
       "      <td>unfurnished</td>\n",
       "      <td>Jigani, Chandapura, Bangalore - South, Karnataka</td>\n",
       "      <td>NaN</td>\n",
       "      <td>NaN</td>\n",
       "      <td>1 study room</td>\n",
       "      <td>chandapura</td>\n",
       "      <td>bangalore</td>\n",
       "      <td>NaN</td>\n",
       "    </tr>\n",
       "  </tbody>\n",
       "</table>\n",
       "</div>"
      ],
      "text/plain": [
       "  property_type  price  price_per_sqft  super_built_up_area  carpet_area  \\\n",
       "0          flat   0.52          4333.0                  NaN       1200.0   \n",
       "1          flat   1.64         12753.0               1608.0       1286.0   \n",
       "2          flat   1.41         14915.0                  NaN        952.0   \n",
       "3          flat   0.67          5940.0               1410.0       1128.0   \n",
       "4         villa   1.05         10938.0               1200.0        960.0   \n",
       "\n",
       "   bedroom  bathroom  balconies              status transaction_type  \\\n",
       "0      3.0       2.0        NaN       ready to move           resale   \n",
       "1      3.0       3.0        NaN  under construction     new property   \n",
       "2      2.0       2.0        2.0       ready to move     new property   \n",
       "3      3.0       2.0        NaN       ready to move     new property   \n",
       "4      3.0       3.0        2.0       ready to move     new property   \n",
       "\n",
       "  furnished_status                                            address  \\\n",
       "0      unfurnished  Kammasandra Main Road Shree Ananth Nagar Layou...   \n",
       "1      unfurnished        Sarjapur Road, Bangalore - South, Karnataka   \n",
       "2      unfurnished  Begur - Koppa Rd, Suraksha nagar, Yelenahalli,...   \n",
       "3      unfurnished  Electronic City, Bangalore, Electronics City P...   \n",
       "4      unfurnished   Jigani, Chandapura, Bangalore - South, Karnataka   \n",
       "\n",
       "   floorNum                society additional_room                localities  \\\n",
       "0       4.0                    NaN             NaN   electronic city phase 2   \n",
       "1       NaN        dsr the address             NaN             sarjapur road   \n",
       "2       4.0                    NaN             NaN       begur hulimavu road   \n",
       "3       1.0  sri sai nandana royal             NaN  electronics city phase 1   \n",
       "4       NaN                    NaN    1 study room                chandapura   \n",
       "\n",
       "     regions  luxury_score  \n",
       "0  bangalore           NaN  \n",
       "1  bangalore         26.85  \n",
       "2  bangalore           NaN  \n",
       "3  bangalore           NaN  \n",
       "4  bangalore           NaN  "
      ]
     },
     "execution_count": 5,
     "metadata": {},
     "output_type": "execute_result"
    }
   ],
   "source": [
    "df.head()"
   ]
  },
  {
   "cell_type": "markdown",
   "metadata": {},
   "source": [
    "## price"
   ]
  },
  {
   "cell_type": "code",
   "execution_count": 41,
   "metadata": {},
   "outputs": [
    {
     "data": {
      "text/plain": [
       "count    18504.000000\n",
       "mean         2.257887\n",
       "std          6.739106\n",
       "min          0.010000\n",
       "25%          0.800000\n",
       "50%          1.380000\n",
       "75%          2.500000\n",
       "max        813.510000\n",
       "Name: price, dtype: float64"
      ]
     },
     "execution_count": 41,
     "metadata": {},
     "output_type": "execute_result"
    }
   ],
   "source": [
    "df['price'].describe()"
   ]
  },
  {
   "cell_type": "code",
   "execution_count": 120,
   "metadata": {},
   "outputs": [],
   "source": [
    "\n",
    "outlier_lower = df[(df['price'] < 0.25)].sort_values(by='price', ascending=False)"
   ]
  },
  {
   "cell_type": "code",
   "execution_count": 121,
   "metadata": {},
   "outputs": [],
   "source": [
    "outlier_upper = df[(df['price'] > 22) & (df['bedroom'] == 2)].sort_values(by='price', ascending=False)"
   ]
  },
  {
   "cell_type": "code",
   "execution_count": 122,
   "metadata": {},
   "outputs": [],
   "source": [
    "df.drop(outlier_lower.index, inplace=True)\n",
    "df.drop(outlier_upper.index, inplace=True)"
   ]
  },
  {
   "cell_type": "code",
   "execution_count": 50,
   "metadata": {},
   "outputs": [
    {
     "data": {
      "text/plain": [
       "<seaborn.axisgrid.FacetGrid at 0x11b0f392db0>"
      ]
     },
     "execution_count": 50,
     "metadata": {},
     "output_type": "execute_result"
    },
    {
     "data": {
      "image/png": "[encoded data removed]",
      "text/plain": [
       "<Figure size 500x500 with 1 Axes>"
      ]
     },
     "metadata": {},
     "output_type": "display_data"
    }
   ],
   "source": [
    "sns.displot(np.log(df['price']))"
   ]
  },
  {
   "cell_type": "markdown",
   "metadata": {},
   "source": [
    "## price_per_sqrft"
   ]
  },
  {
   "cell_type": "code",
   "execution_count": 53,
   "metadata": {},
   "outputs": [
    {
     "data": {
      "text/plain": [
       "count      18352.00\n",
       "mean       15959.48\n",
       "std        14579.45\n",
       "min          140.00\n",
       "25%         8828.00\n",
       "50%        12811.50\n",
       "75%        19000.00\n",
       "max      1066667.00\n",
       "Name: price_per_sqft, dtype: float64"
      ]
     },
     "execution_count": 53,
     "metadata": {},
     "output_type": "execute_result"
    }
   ],
   "source": [
    "df['price_per_sqft'].describe().round(2)"
   ]
  },
  {
   "cell_type": "code",
   "execution_count": 123,
   "metadata": {},
   "outputs": [
    {
     "data": {
      "text/plain": [
       "(1080,\n",
       " count       1080.00\n",
       " mean       51634.27\n",
       " std        39156.62\n",
       " min        34266.00\n",
       " 25%        37500.00\n",
       " 50%        43003.00\n",
       " 75%        54191.25\n",
       " max      1066667.00\n",
       " Name: price_per_sqft, dtype: float64)"
      ]
     },
     "execution_count": 123,
     "metadata": {},
     "output_type": "execute_result"
    }
   ],
   "source": [
    "Q1 = df['price_per_sqft'].quantile(0.25)\n",
    "Q3 = df['price_per_sqft'].quantile(0.75)\n",
    "\n",
    "IQR = Q3 - Q1\n",
    "\n",
    "# Define bounds for outliers\n",
    "lower_bound = Q1 - 1.5 * IQR\n",
    "upper_bound = Q3 + 1.5 * IQR\n",
    "\n",
    "\n",
    "# Identify outliers\n",
    "outliers_sqft = df[(df['price_per_sqft'] < lower_bound) | (df['price_per_sqft'] > upper_bound)]\n",
    "\n",
    "# Displaying the number of outliers and some statistics\n",
    "num_outliers = outliers_sqft.shape[0]\n",
    "outliers_sqft_stats = outliers_sqft['price_per_sqft'].describe().round(2)\n",
    "\n",
    "num_outliers, outliers_sqft_stats"
   ]
  },
  {
   "cell_type": "code",
   "execution_count": 73,
   "metadata": {},
   "outputs": [
    {
     "data": {
      "text/plain": [
       "34258.0"
      ]
     },
     "execution_count": 73,
     "metadata": {},
     "output_type": "execute_result"
    }
   ],
   "source": [
    "upper_bound"
   ]
  },
  {
   "cell_type": "code",
   "execution_count": 124,
   "metadata": {},
   "outputs": [],
   "source": [
    "price_per_sqft_outlier_lower =  df[df['price_per_sqft'] < 2000]"
   ]
  },
  {
   "cell_type": "code",
   "execution_count": 125,
   "metadata": {},
   "outputs": [],
   "source": [
    "upper_outlier_removal = df[(df['price_per_sqft'] > upper_bound) & (df['carpet_area'] < 600)]"
   ]
  },
  {
   "cell_type": "code",
   "execution_count": 126,
   "metadata": {},
   "outputs": [],
   "source": [
    "df.drop(price_per_sqft_outlier_lower.index, inplace=True)\n",
    "df.drop(upper_outlier_removal.index, inplace=True)"
   ]
  },
  {
   "cell_type": "markdown",
   "metadata": {},
   "source": [
    "## carpet_area"
   ]
  },
  {
   "cell_type": "code",
   "execution_count": 101,
   "metadata": {},
   "outputs": [
    {
     "data": {
      "text/plain": [
       "count     18226.000000\n",
       "mean       1353.680801\n",
       "std        1590.072971\n",
       "min          83.000000\n",
       "25%         765.000000\n",
       "50%        1050.000000\n",
       "75%        1510.000000\n",
       "max      130680.000000\n",
       "Name: carpet_area, dtype: float64"
      ]
     },
     "execution_count": 101,
     "metadata": {},
     "output_type": "execute_result"
    }
   ],
   "source": [
    "df['carpet_area'].describe()"
   ]
  },
  {
   "cell_type": "code",
   "execution_count": 127,
   "metadata": {},
   "outputs": [],
   "source": [
    "Q1 = df['carpet_area'].quantile(0.25)\n",
    "Q3 = df['carpet_area'].quantile(0.75)\n",
    "\n",
    "IQR = Q3 - Q1\n",
    "\n",
    "# Define bounds for outliers\n",
    "lower_bound = Q1 - 1.5 * IQR\n",
    "upper_bound = Q3 + 1.5 * IQR\n",
    "\n"
   ]
  },
  {
   "cell_type": "code",
   "execution_count": 128,
   "metadata": {},
   "outputs": [],
   "source": [
    "outlier_to_remove = df[df['carpet_area']  < 250].sort_values('carpet_area')"
   ]
  },
  {
   "cell_type": "code",
   "execution_count": 129,
   "metadata": {},
   "outputs": [],
   "source": [
    "df.drop(outlier_to_remove.index, inplace=True)"
   ]
  },
  {
   "cell_type": "code",
   "execution_count": 131,
   "metadata": {},
   "outputs": [],
   "source": [
    "df.to_csv('real_estatesv8.csv', index=False)"
   ]
  },
  {
   "cell_type": "code",
   "execution_count": null,
   "metadata": {},
   "outputs": [],
   "source": []
  }
 ],
 "metadata": {
  "kernelspec": {
   "display_name": "base",
   "language": "python",
   "name": "python3"
  },
  "language_info": {
   "codemirror_mode": {
    "name": "ipython",
    "version": 3
   },
   "file_extension": ".py",
   "mimetype": "text/x-python",
   "name": "python",
   "nbconvert_exporter": "python",
   "pygments_lexer": "ipython3",
   "version": "3.12.7"
  }
 },
 "nbformat": 4,
 "nbformat_minor": 2
}
