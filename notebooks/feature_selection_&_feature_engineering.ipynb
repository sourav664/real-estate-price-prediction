{
 "cells": [
  {
   "cell_type": "code",
   "execution_count": 2,
   "metadata": {},
   "outputs": [],
   "source": [
    "import pandas as pd\n",
    "import numpy as np\n"
   ]
  },
  {
   "cell_type": "code",
   "execution_count": 3,
   "metadata": {},
   "outputs": [],
   "source": [
    "import matplotlib.pyplot as plt\n",
    "import seaborn as sns"
   ]
  },
  {
   "cell_type": "code",
   "execution_count": 4,
   "metadata": {},
   "outputs": [],
   "source": [
    "df = pd.read_csv('final_imputed_data.csv')"
   ]
  },
  {
   "cell_type": "code",
   "execution_count": 5,
   "metadata": {},
   "outputs": [
    {
     "name": "stdout",
     "output_type": "stream",
     "text": [
      "<class 'pandas.core.frame.DataFrame'>\n",
      "RangeIndex: 17880 entries, 0 to 17879\n",
      "Data columns (total 15 columns):\n",
      " #   Column                    Non-Null Count  Dtype  \n",
      "---  ------                    --------------  -----  \n",
      " 0   property_type             17880 non-null  object \n",
      " 1   price                     17880 non-null  float64\n",
      " 2   carpet_area               17880 non-null  float64\n",
      " 3   bedroom                   17880 non-null  float64\n",
      " 4   bathroom                  17880 non-null  float64\n",
      " 5   status                    17880 non-null  object \n",
      " 6   transaction_type          17880 non-null  object \n",
      " 7   additional_room           17880 non-null  float64\n",
      " 8   regions                   17880 non-null  object \n",
      " 9   balconies_imputed         17676 non-null  float64\n",
      " 10  balconies_iter            17880 non-null  float64\n",
      " 11  floorNum_iter             17880 non-null  float64\n",
      " 12  furnished_status_imputed  17880 non-null  int64  \n",
      " 13  luxury_score_iter         17880 non-null  float64\n",
      " 14  luxury_category           17880 non-null  object \n",
      "dtypes: float64(9), int64(1), object(5)\n",
      "memory usage: 2.0+ MB\n"
     ]
    }
   ],
   "source": [
    "df.info()"
   ]
  },
  {
   "cell_type": "code",
   "execution_count": 44,
   "metadata": {},
   "outputs": [],
   "source": [
    "df['status'] = df['status'].fillna('ready to move')"
   ]
  },
  {
   "cell_type": "code",
   "execution_count": 42,
   "metadata": {},
   "outputs": [],
   "source": [
    "df['floorNum_iter'] = df['floorNum_iter'].round()"
   ]
  },
  {
   "cell_type": "markdown",
   "metadata": {},
   "source": [
    "## luxury Score"
   ]
  },
  {
   "cell_type": "code",
   "execution_count": 15,
   "metadata": {},
   "outputs": [
    {
     "data": {
      "text/plain": [
       "<Axes: ylabel='luxury_score_iter'>"
      ]
     },
     "execution_count": 15,
     "metadata": {},
     "output_type": "execute_result"
    },
    {
     "data": {
      "image/png": "[encoded data removed]",
      "text/plain": [
       "<Figure size 640x480 with 1 Axes>"
      ]
     },
     "metadata": {},
     "output_type": "display_data"
    }
   ],
   "source": [
    "sns.boxplot(df['luxury_score_iter'])"
   ]
  },
  {
   "cell_type": "code",
   "execution_count": 47,
   "metadata": {},
   "outputs": [],
   "source": [
    "twentyfive_per, seventyfive_per = df['luxury_score_iter'].quantile([0.25,0.75])\n",
    "iqr = seventyfive_per - twentyfive_per\n",
    "lower_bound = twentyfive_per - (1.5 * iqr)\n",
    "upper_bound = seventyfive_per + (1.5 * iqr)"
   ]
  },
  {
   "cell_type": "code",
   "execution_count": 48,
   "metadata": {},
   "outputs": [
    {
     "name": "stdout",
     "output_type": "stream",
     "text": [
      "The outlier exists in the luxury score column is 9.552122693931985%\n"
     ]
    }
   ],
   "source": [
    "print(\"The outlier exists in the luxury score column is {}%\".format(df[df['luxury_score_iter'] > upper_bound].shape[0]/df.shape[0] * 100))"
   ]
  },
  {
   "cell_type": "code",
   "execution_count": 49,
   "metadata": {},
   "outputs": [
    {
     "data": {
      "text/plain": [
       "luxury_score_iter\n",
       "9.0     4663\n",
       "8.0     2736\n",
       "7.0     1014\n",
       "10.0     950\n",
       "13.0     856\n",
       "6.0      731\n",
       "14.0     591\n",
       "12.0     500\n",
       "15.0     477\n",
       "5.0      458\n",
       "11.0     448\n",
       "19.0     323\n",
       "18.0     318\n",
       "20.0     318\n",
       "16.0     262\n",
       "17.0     229\n",
       "24.0     221\n",
       "21.0     221\n",
       "23.0     210\n",
       "22.0     209\n",
       "Name: count, dtype: int64"
      ]
     },
     "execution_count": 49,
     "metadata": {},
     "output_type": "execute_result"
    }
   ],
   "source": [
    "df['luxury_score_iter'].value_counts().head(20)"
   ]
  },
  {
   "cell_type": "code",
   "execution_count": 56,
   "metadata": {},
   "outputs": [
    {
     "data": {
      "text/html": [
       "<div>\n",
       "<style scoped>\n",
       "    .dataframe tbody tr th:only-of-type {\n",
       "        vertical-align: middle;\n",
       "    }\n",
       "\n",
       "    .dataframe tbody tr th {\n",
       "        vertical-align: top;\n",
       "    }\n",
       "\n",
       "    .dataframe thead th {\n",
       "        text-align: right;\n",
       "    }\n",
       "</style>\n",
       "<table border=\"1\" class=\"dataframe\">\n",
       "  <thead>\n",
       "    <tr style=\"text-align: right;\">\n",
       "      <th></th>\n",
       "      <th>property_type</th>\n",
       "      <th>price</th>\n",
       "      <th>bedroom</th>\n",
       "      <th>luxury_score_iter</th>\n",
       "    </tr>\n",
       "  </thead>\n",
       "  <tbody>\n",
       "    <tr>\n",
       "      <th>8303</th>\n",
       "      <td>flat</td>\n",
       "      <td>1.40</td>\n",
       "      <td>3.0</td>\n",
       "      <td>41.0</td>\n",
       "    </tr>\n",
       "    <tr>\n",
       "      <th>17510</th>\n",
       "      <td>flat</td>\n",
       "      <td>3.98</td>\n",
       "      <td>3.0</td>\n",
       "      <td>34.0</td>\n",
       "    </tr>\n",
       "    <tr>\n",
       "      <th>16468</th>\n",
       "      <td>residential</td>\n",
       "      <td>0.90</td>\n",
       "      <td>5.0</td>\n",
       "      <td>26.0</td>\n",
       "    </tr>\n",
       "    <tr>\n",
       "      <th>82</th>\n",
       "      <td>villa</td>\n",
       "      <td>2.98</td>\n",
       "      <td>4.0</td>\n",
       "      <td>29.0</td>\n",
       "    </tr>\n",
       "    <tr>\n",
       "      <th>11099</th>\n",
       "      <td>flat</td>\n",
       "      <td>5.89</td>\n",
       "      <td>3.0</td>\n",
       "      <td>42.0</td>\n",
       "    </tr>\n",
       "    <tr>\n",
       "      <th>8005</th>\n",
       "      <td>flat</td>\n",
       "      <td>4.30</td>\n",
       "      <td>3.0</td>\n",
       "      <td>44.0</td>\n",
       "    </tr>\n",
       "    <tr>\n",
       "      <th>12891</th>\n",
       "      <td>flat</td>\n",
       "      <td>1.00</td>\n",
       "      <td>2.0</td>\n",
       "      <td>28.0</td>\n",
       "    </tr>\n",
       "    <tr>\n",
       "      <th>6934</th>\n",
       "      <td>villa</td>\n",
       "      <td>27.00</td>\n",
       "      <td>4.0</td>\n",
       "      <td>31.0</td>\n",
       "    </tr>\n",
       "    <tr>\n",
       "      <th>13564</th>\n",
       "      <td>flat</td>\n",
       "      <td>2.75</td>\n",
       "      <td>3.0</td>\n",
       "      <td>29.0</td>\n",
       "    </tr>\n",
       "    <tr>\n",
       "      <th>16452</th>\n",
       "      <td>flat</td>\n",
       "      <td>10.50</td>\n",
       "      <td>4.0</td>\n",
       "      <td>26.0</td>\n",
       "    </tr>\n",
       "  </tbody>\n",
       "</table>\n",
       "</div>"
      ],
      "text/plain": [
       "      property_type  price  bedroom  luxury_score_iter\n",
       "8303           flat   1.40      3.0               41.0\n",
       "17510          flat   3.98      3.0               34.0\n",
       "16468   residential   0.90      5.0               26.0\n",
       "82            villa   2.98      4.0               29.0\n",
       "11099          flat   5.89      3.0               42.0\n",
       "8005           flat   4.30      3.0               44.0\n",
       "12891          flat   1.00      2.0               28.0\n",
       "6934          villa  27.00      4.0               31.0\n",
       "13564          flat   2.75      3.0               29.0\n",
       "16452          flat  10.50      4.0               26.0"
      ]
     },
     "execution_count": 56,
     "metadata": {},
     "output_type": "execute_result"
    }
   ],
   "source": [
    "df[df['luxury_score_iter'] > upper_bound][['property_type','price','bedroom','luxury_score_iter']].sample(10)"
   ]
  },
  {
   "cell_type": "code",
   "execution_count": 57,
   "metadata": {},
   "outputs": [],
   "source": [
    "def categorize_luxury(score):\n",
    "    if 0 <= score < 10:\n",
    "        return \"Low\"\n",
    "    elif 10 <= score < 25:\n",
    "        return \"Medium\"\n",
    "    \n",
    "    else:\n",
    "        return \"High\"  # or \"Undefined\" or any other label for scores outside the defined bins"
   ]
  },
  {
   "cell_type": "code",
   "execution_count": 58,
   "metadata": {},
   "outputs": [],
   "source": [
    "df['luxury_category'] = df['luxury_score_iter'].apply(categorize_luxury)"
   ]
  },
  {
   "cell_type": "code",
   "execution_count": 59,
   "metadata": {},
   "outputs": [
    {
     "data": {
      "text/plain": [
       "luxury_category\n",
       "Low       9939\n",
       "Medium    6133\n",
       "High      1924\n",
       "Name: count, dtype: int64"
      ]
     },
     "execution_count": 59,
     "metadata": {},
     "output_type": "execute_result"
    }
   ],
   "source": [
    "df['luxury_category'].value_counts()"
   ]
  },
  {
   "cell_type": "markdown",
   "metadata": {},
   "source": [
    "## floorNum"
   ]
  },
  {
   "cell_type": "code",
   "execution_count": 6,
   "metadata": {},
   "outputs": [],
   "source": [
    "def categorize_floor(floor):\n",
    "    if 0 <= floor <= 2:\n",
    "        return \"Low Floor\"\n",
    "    elif 3 <= floor <= 10:\n",
    "        return \"Mid Floor\"\n",
    "   \n",
    "    else:\n",
    "        return \"High Floor\"  # or \"Undefined\" or any other label for floors outside the defined bins"
   ]
  },
  {
   "cell_type": "code",
   "execution_count": 7,
   "metadata": {},
   "outputs": [],
   "source": [
    "df['floor_category'] = df['floorNum_iter'].apply(categorize_floor)"
   ]
  },
  {
   "cell_type": "code",
   "execution_count": 9,
   "metadata": {},
   "outputs": [],
   "source": [
    "df.drop(columns=['floorNum_iter','luxury_score_iter'],inplace=True)"
   ]
  },
  {
   "cell_type": "code",
   "execution_count": 10,
   "metadata": {},
   "outputs": [],
   "source": [
    "df.drop(columns=['balconies_imputed'],inplace=True)"
   ]
  },
  {
   "cell_type": "code",
   "execution_count": 11,
   "metadata": {},
   "outputs": [],
   "source": [
    "from sklearn.preprocessing import OrdinalEncoder, OneHotEncoder\n",
    "from sklearn.compose import ColumnTransformer\n",
    "import category_encoders as ce"
   ]
  },
  {
   "cell_type": "code",
   "execution_count": 12,
   "metadata": {},
   "outputs": [
    {
     "name": "stdout",
     "output_type": "stream",
     "text": [
      "[array(['builder-floor', 'flat', 'penthouse', 'residential', 'villa'],\n",
      "      dtype=object)]\n",
      "[array(['immediately', 'ready to move', 'under construction'], dtype=object)]\n",
      "[array(['new property', 'other', 'rent', 'resale'], dtype=object)]\n",
      "[array(['bangalore', 'beyond thane', 'greater noida', 'gurgaon', 'mumbai',\n",
      "       'navi mumbai', 'new delhi', 'noida', 'pune', 'thane'], dtype=object)]\n",
      "[array(['High', 'Low', 'Medium'], dtype=object)]\n",
      "[array(['High Floor', 'Low Floor', 'Mid Floor'], dtype=object)]\n"
     ]
    }
   ],
   "source": [
    "data_label_encoded = df.copy()\n",
    "\n",
    "categorical_cols = df.select_dtypes(include=['object']).columns\n",
    "\n",
    "# Apply label encoding to categorical columns\n",
    "for col in categorical_cols:\n",
    "    oe = OrdinalEncoder()\n",
    "    data_label_encoded[col] = oe.fit_transform(data_label_encoded[[col]])\n",
    "    print(oe.categories_)\n",
    "\n",
    "# Splitting the dataset into training and testing sets\n",
    "X_label = data_label_encoded.drop('price', axis=1)\n",
    "y_label = data_label_encoded['price']"
   ]
  },
  {
   "cell_type": "code",
   "execution_count": 107,
   "metadata": {},
   "outputs": [],
   "source": [
    "from sklearn.base import BaseEstimator, TransformerMixin\n",
    "import category_encoders as ce\n",
    "\n",
    "# Custom wrapper to make BinaryEncoder compatible\n",
    "class BinaryEncoderWrapper(BaseEstimator, TransformerMixin):\n",
    "    def __init__(self, cols=None):\n",
    "        self.cols = cols\n",
    "        self.encoder = ce.BinaryEncoder(cols=cols, return_df=True)\n",
    "        \n",
    "    def fit(self, X, y=None):\n",
    "        self.encoder.fit(X, y)\n",
    "        return self\n",
    "    \n",
    "    def transform(self, X):\n",
    "        return self.encoder.transform(X)"
   ]
  },
  {
   "cell_type": "markdown",
   "metadata": {},
   "source": [
    "## Technique 1-Correlation Analysis"
   ]
  },
  {
   "cell_type": "code",
   "execution_count": 156,
   "metadata": {},
   "outputs": [
    {
     "data": {
      "text/plain": [
       "<Axes: >"
      ]
     },
     "execution_count": 156,
     "metadata": {},
     "output_type": "execute_result"
    },
    {
     "data": {
      "image/png": "[encoded data removed]",
      "text/plain": [
       "<Figure size 640x480 with 2 Axes>"
      ]
     },
     "metadata": {},
     "output_type": "display_data"
    }
   ],
   "source": [
    "sns.heatmap(data_label_encoded.corr())"
   ]
  },
  {
   "cell_type": "code",
   "execution_count": 17,
   "metadata": {},
   "outputs": [
    {
     "data": {
      "text/html": [
       "<div>\n",
       "<style scoped>\n",
       "    .dataframe tbody tr th:only-of-type {\n",
       "        vertical-align: middle;\n",
       "    }\n",
       "\n",
       "    .dataframe tbody tr th {\n",
       "        vertical-align: top;\n",
       "    }\n",
       "\n",
       "    .dataframe thead th {\n",
       "        text-align: right;\n",
       "    }\n",
       "</style>\n",
       "<table border=\"1\" class=\"dataframe\">\n",
       "  <thead>\n",
       "    <tr style=\"text-align: right;\">\n",
       "      <th></th>\n",
       "      <th>feature</th>\n",
       "      <th>price</th>\n",
       "    </tr>\n",
       "  </thead>\n",
       "  <tbody>\n",
       "    <tr>\n",
       "      <th>0</th>\n",
       "      <td>property_type</td>\n",
       "      <td>0.172207</td>\n",
       "    </tr>\n",
       "    <tr>\n",
       "      <th>1</th>\n",
       "      <td>price</td>\n",
       "      <td>1.000000</td>\n",
       "    </tr>\n",
       "    <tr>\n",
       "      <th>2</th>\n",
       "      <td>carpet_area</td>\n",
       "      <td>0.482411</td>\n",
       "    </tr>\n",
       "    <tr>\n",
       "      <th>3</th>\n",
       "      <td>bedroom</td>\n",
       "      <td>0.463468</td>\n",
       "    </tr>\n",
       "    <tr>\n",
       "      <th>4</th>\n",
       "      <td>bathroom</td>\n",
       "      <td>0.520777</td>\n",
       "    </tr>\n",
       "    <tr>\n",
       "      <th>5</th>\n",
       "      <td>status</td>\n",
       "      <td>0.001691</td>\n",
       "    </tr>\n",
       "    <tr>\n",
       "      <th>6</th>\n",
       "      <td>transaction_type</td>\n",
       "      <td>-0.088351</td>\n",
       "    </tr>\n",
       "    <tr>\n",
       "      <th>7</th>\n",
       "      <td>additional_room</td>\n",
       "      <td>0.292492</td>\n",
       "    </tr>\n",
       "    <tr>\n",
       "      <th>8</th>\n",
       "      <td>regions</td>\n",
       "      <td>-0.001114</td>\n",
       "    </tr>\n",
       "    <tr>\n",
       "      <th>9</th>\n",
       "      <td>balconies_iter</td>\n",
       "      <td>0.313941</td>\n",
       "    </tr>\n",
       "    <tr>\n",
       "      <th>10</th>\n",
       "      <td>furnished_status_imputed</td>\n",
       "      <td>0.011057</td>\n",
       "    </tr>\n",
       "    <tr>\n",
       "      <th>11</th>\n",
       "      <td>luxury_category</td>\n",
       "      <td>-0.095419</td>\n",
       "    </tr>\n",
       "    <tr>\n",
       "      <th>12</th>\n",
       "      <td>floor_category</td>\n",
       "      <td>-0.116697</td>\n",
       "    </tr>\n",
       "  </tbody>\n",
       "</table>\n",
       "</div>"
      ],
      "text/plain": [
       "                     feature     price\n",
       "0              property_type  0.172207\n",
       "1                      price  1.000000\n",
       "2                carpet_area  0.482411\n",
       "3                    bedroom  0.463468\n",
       "4                   bathroom  0.520777\n",
       "5                     status  0.001691\n",
       "6           transaction_type -0.088351\n",
       "7            additional_room  0.292492\n",
       "8                    regions -0.001114\n",
       "9             balconies_iter  0.313941\n",
       "10  furnished_status_imputed  0.011057\n",
       "11           luxury_category -0.095419\n",
       "12            floor_category -0.116697"
      ]
     },
     "execution_count": 17,
     "metadata": {},
     "output_type": "execute_result"
    }
   ],
   "source": [
    "fi_df1 = data_label_encoded.corr()['price'].to_frame().reset_index().rename(columns={'index':'feature','remainder__price':'corr_coeff'})\n",
    "fi_df1"
   ]
  },
  {
   "cell_type": "markdown",
   "metadata": {},
   "source": [
    "## Technique 2 - Random Forest Feature Importance"
   ]
  },
  {
   "cell_type": "code",
   "execution_count": 18,
   "metadata": {},
   "outputs": [
    {
     "data": {
      "text/html": [
       "<div>\n",
       "<style scoped>\n",
       "    .dataframe tbody tr th:only-of-type {\n",
       "        vertical-align: middle;\n",
       "    }\n",
       "\n",
       "    .dataframe tbody tr th {\n",
       "        vertical-align: top;\n",
       "    }\n",
       "\n",
       "    .dataframe thead th {\n",
       "        text-align: right;\n",
       "    }\n",
       "</style>\n",
       "<table border=\"1\" class=\"dataframe\">\n",
       "  <thead>\n",
       "    <tr style=\"text-align: right;\">\n",
       "      <th></th>\n",
       "      <th>feature</th>\n",
       "      <th>rf_importance</th>\n",
       "    </tr>\n",
       "  </thead>\n",
       "  <tbody>\n",
       "    <tr>\n",
       "      <th>1</th>\n",
       "      <td>carpet_area</td>\n",
       "      <td>0.510144</td>\n",
       "    </tr>\n",
       "    <tr>\n",
       "      <th>7</th>\n",
       "      <td>regions</td>\n",
       "      <td>0.146720</td>\n",
       "    </tr>\n",
       "    <tr>\n",
       "      <th>3</th>\n",
       "      <td>bathroom</td>\n",
       "      <td>0.083607</td>\n",
       "    </tr>\n",
       "    <tr>\n",
       "      <th>11</th>\n",
       "      <td>floor_category</td>\n",
       "      <td>0.061593</td>\n",
       "    </tr>\n",
       "    <tr>\n",
       "      <th>0</th>\n",
       "      <td>property_type</td>\n",
       "      <td>0.043234</td>\n",
       "    </tr>\n",
       "    <tr>\n",
       "      <th>8</th>\n",
       "      <td>balconies_iter</td>\n",
       "      <td>0.042683</td>\n",
       "    </tr>\n",
       "    <tr>\n",
       "      <th>2</th>\n",
       "      <td>bedroom</td>\n",
       "      <td>0.032209</td>\n",
       "    </tr>\n",
       "    <tr>\n",
       "      <th>9</th>\n",
       "      <td>furnished_status_imputed</td>\n",
       "      <td>0.028353</td>\n",
       "    </tr>\n",
       "    <tr>\n",
       "      <th>10</th>\n",
       "      <td>luxury_category</td>\n",
       "      <td>0.022831</td>\n",
       "    </tr>\n",
       "    <tr>\n",
       "      <th>6</th>\n",
       "      <td>additional_room</td>\n",
       "      <td>0.016909</td>\n",
       "    </tr>\n",
       "    <tr>\n",
       "      <th>5</th>\n",
       "      <td>transaction_type</td>\n",
       "      <td>0.010485</td>\n",
       "    </tr>\n",
       "    <tr>\n",
       "      <th>4</th>\n",
       "      <td>status</td>\n",
       "      <td>0.001233</td>\n",
       "    </tr>\n",
       "  </tbody>\n",
       "</table>\n",
       "</div>"
      ],
      "text/plain": [
       "                     feature  rf_importance\n",
       "1                carpet_area       0.510144\n",
       "7                    regions       0.146720\n",
       "3                   bathroom       0.083607\n",
       "11            floor_category       0.061593\n",
       "0              property_type       0.043234\n",
       "8             balconies_iter       0.042683\n",
       "2                    bedroom       0.032209\n",
       "9   furnished_status_imputed       0.028353\n",
       "10           luxury_category       0.022831\n",
       "6            additional_room       0.016909\n",
       "5           transaction_type       0.010485\n",
       "4                     status       0.001233"
      ]
     },
     "execution_count": 18,
     "metadata": {},
     "output_type": "execute_result"
    }
   ],
   "source": [
    "from sklearn.ensemble import RandomForestRegressor\n",
    "\n",
    "# Train a Random Forest regressor on label encoded data\n",
    "rf_label = RandomForestRegressor(n_estimators=100, random_state=42)\n",
    "rf_label.fit(X_label, y_label)\n",
    "\n",
    "# Extract feature importance scores for label encoded data\n",
    "fi_df2 = pd.DataFrame({\n",
    "    'feature': X_label.columns,\n",
    "    'rf_importance': rf_label.feature_importances_\n",
    "}).sort_values(by='rf_importance', ascending=False)\n",
    "\n",
    "fi_df2"
   ]
  },
  {
   "cell_type": "markdown",
   "metadata": {},
   "source": [
    "## Technique 3 - Gradient Boosting Feature importances"
   ]
  },
  {
   "cell_type": "code",
   "execution_count": 19,
   "metadata": {},
   "outputs": [
    {
     "data": {
      "text/html": [
       "<div>\n",
       "<style scoped>\n",
       "    .dataframe tbody tr th:only-of-type {\n",
       "        vertical-align: middle;\n",
       "    }\n",
       "\n",
       "    .dataframe tbody tr th {\n",
       "        vertical-align: top;\n",
       "    }\n",
       "\n",
       "    .dataframe thead th {\n",
       "        text-align: right;\n",
       "    }\n",
       "</style>\n",
       "<table border=\"1\" class=\"dataframe\">\n",
       "  <thead>\n",
       "    <tr style=\"text-align: right;\">\n",
       "      <th></th>\n",
       "      <th>feature</th>\n",
       "      <th>gb_importance</th>\n",
       "    </tr>\n",
       "  </thead>\n",
       "  <tbody>\n",
       "    <tr>\n",
       "      <th>1</th>\n",
       "      <td>carpet_area</td>\n",
       "      <td>0.589829</td>\n",
       "    </tr>\n",
       "    <tr>\n",
       "      <th>7</th>\n",
       "      <td>regions</td>\n",
       "      <td>0.196021</td>\n",
       "    </tr>\n",
       "    <tr>\n",
       "      <th>11</th>\n",
       "      <td>floor_category</td>\n",
       "      <td>0.064356</td>\n",
       "    </tr>\n",
       "    <tr>\n",
       "      <th>3</th>\n",
       "      <td>bathroom</td>\n",
       "      <td>0.057439</td>\n",
       "    </tr>\n",
       "    <tr>\n",
       "      <th>2</th>\n",
       "      <td>bedroom</td>\n",
       "      <td>0.024189</td>\n",
       "    </tr>\n",
       "    <tr>\n",
       "      <th>0</th>\n",
       "      <td>property_type</td>\n",
       "      <td>0.017276</td>\n",
       "    </tr>\n",
       "    <tr>\n",
       "      <th>10</th>\n",
       "      <td>luxury_category</td>\n",
       "      <td>0.014239</td>\n",
       "    </tr>\n",
       "    <tr>\n",
       "      <th>6</th>\n",
       "      <td>additional_room</td>\n",
       "      <td>0.013934</td>\n",
       "    </tr>\n",
       "    <tr>\n",
       "      <th>8</th>\n",
       "      <td>balconies_iter</td>\n",
       "      <td>0.013359</td>\n",
       "    </tr>\n",
       "    <tr>\n",
       "      <th>9</th>\n",
       "      <td>furnished_status_imputed</td>\n",
       "      <td>0.007638</td>\n",
       "    </tr>\n",
       "    <tr>\n",
       "      <th>5</th>\n",
       "      <td>transaction_type</td>\n",
       "      <td>0.001713</td>\n",
       "    </tr>\n",
       "    <tr>\n",
       "      <th>4</th>\n",
       "      <td>status</td>\n",
       "      <td>0.000006</td>\n",
       "    </tr>\n",
       "  </tbody>\n",
       "</table>\n",
       "</div>"
      ],
      "text/plain": [
       "                     feature  gb_importance\n",
       "1                carpet_area       0.589829\n",
       "7                    regions       0.196021\n",
       "11            floor_category       0.064356\n",
       "3                   bathroom       0.057439\n",
       "2                    bedroom       0.024189\n",
       "0              property_type       0.017276\n",
       "10           luxury_category       0.014239\n",
       "6            additional_room       0.013934\n",
       "8             balconies_iter       0.013359\n",
       "9   furnished_status_imputed       0.007638\n",
       "5           transaction_type       0.001713\n",
       "4                     status       0.000006"
      ]
     },
     "execution_count": 19,
     "metadata": {},
     "output_type": "execute_result"
    }
   ],
   "source": [
    "from sklearn.ensemble import GradientBoostingRegressor\n",
    "\n",
    "# Train a Random Forest regressor on label encoded data\n",
    "gb_label = GradientBoostingRegressor()\n",
    "gb_label.fit(X_label, y_label)\n",
    "\n",
    "# Extract feature importance scores for label encoded data\n",
    "fi_df3 = pd.DataFrame({\n",
    "    'feature': X_label.columns,\n",
    "    'gb_importance': gb_label.feature_importances_\n",
    "}).sort_values(by='gb_importance', ascending=False)\n",
    "\n",
    "fi_df3"
   ]
  },
  {
   "cell_type": "markdown",
   "metadata": {},
   "source": [
    "## Technique 4 - Permutation Importance"
   ]
  },
  {
   "cell_type": "code",
   "execution_count": 20,
   "metadata": {},
   "outputs": [
    {
     "data": {
      "text/html": [
       "<div>\n",
       "<style scoped>\n",
       "    .dataframe tbody tr th:only-of-type {\n",
       "        vertical-align: middle;\n",
       "    }\n",
       "\n",
       "    .dataframe tbody tr th {\n",
       "        vertical-align: top;\n",
       "    }\n",
       "\n",
       "    .dataframe thead th {\n",
       "        text-align: right;\n",
       "    }\n",
       "</style>\n",
       "<table border=\"1\" class=\"dataframe\">\n",
       "  <thead>\n",
       "    <tr style=\"text-align: right;\">\n",
       "      <th></th>\n",
       "      <th>feature</th>\n",
       "      <th>permutation_importance</th>\n",
       "    </tr>\n",
       "  </thead>\n",
       "  <tbody>\n",
       "    <tr>\n",
       "      <th>1</th>\n",
       "      <td>carpet_area</td>\n",
       "      <td>1.310447</td>\n",
       "    </tr>\n",
       "    <tr>\n",
       "      <th>7</th>\n",
       "      <td>regions</td>\n",
       "      <td>0.341923</td>\n",
       "    </tr>\n",
       "    <tr>\n",
       "      <th>0</th>\n",
       "      <td>property_type</td>\n",
       "      <td>0.108641</td>\n",
       "    </tr>\n",
       "    <tr>\n",
       "      <th>11</th>\n",
       "      <td>floor_category</td>\n",
       "      <td>0.092617</td>\n",
       "    </tr>\n",
       "    <tr>\n",
       "      <th>8</th>\n",
       "      <td>balconies_iter</td>\n",
       "      <td>0.058256</td>\n",
       "    </tr>\n",
       "    <tr>\n",
       "      <th>3</th>\n",
       "      <td>bathroom</td>\n",
       "      <td>0.042490</td>\n",
       "    </tr>\n",
       "    <tr>\n",
       "      <th>2</th>\n",
       "      <td>bedroom</td>\n",
       "      <td>0.030467</td>\n",
       "    </tr>\n",
       "    <tr>\n",
       "      <th>10</th>\n",
       "      <td>luxury_category</td>\n",
       "      <td>0.022305</td>\n",
       "    </tr>\n",
       "    <tr>\n",
       "      <th>9</th>\n",
       "      <td>furnished_status_imputed</td>\n",
       "      <td>0.011335</td>\n",
       "    </tr>\n",
       "    <tr>\n",
       "      <th>6</th>\n",
       "      <td>additional_room</td>\n",
       "      <td>0.007721</td>\n",
       "    </tr>\n",
       "    <tr>\n",
       "      <th>5</th>\n",
       "      <td>transaction_type</td>\n",
       "      <td>0.006843</td>\n",
       "    </tr>\n",
       "    <tr>\n",
       "      <th>4</th>\n",
       "      <td>status</td>\n",
       "      <td>0.000116</td>\n",
       "    </tr>\n",
       "  </tbody>\n",
       "</table>\n",
       "</div>"
      ],
      "text/plain": [
       "                     feature  permutation_importance\n",
       "1                carpet_area                1.310447\n",
       "7                    regions                0.341923\n",
       "0              property_type                0.108641\n",
       "11            floor_category                0.092617\n",
       "8             balconies_iter                0.058256\n",
       "3                   bathroom                0.042490\n",
       "2                    bedroom                0.030467\n",
       "10           luxury_category                0.022305\n",
       "9   furnished_status_imputed                0.011335\n",
       "6            additional_room                0.007721\n",
       "5           transaction_type                0.006843\n",
       "4                     status                0.000116"
      ]
     },
     "execution_count": 20,
     "metadata": {},
     "output_type": "execute_result"
    }
   ],
   "source": [
    "from sklearn.inspection import permutation_importance\n",
    "from sklearn.model_selection import train_test_split\n",
    "\n",
    "X_train_label, X_test_label, y_train_label, y_test_label = train_test_split(X_label, y_label, test_size=0.2, random_state=42)\n",
    "\n",
    "# Train a Random Forest regressor on label encoded data\n",
    "rf_label = RandomForestRegressor(n_estimators=100, random_state=42)\n",
    "rf_label.fit(X_train_label, y_train_label)\n",
    "\n",
    "# Calculate Permutation Importance\n",
    "perm_importance = permutation_importance(rf_label, X_test_label, y_test_label, n_repeats=30, random_state=42)\n",
    "\n",
    "# Organize results into a DataFrame\n",
    "fi_df4 = pd.DataFrame({\n",
    "    'feature': X_label.columns,\n",
    "    'permutation_importance': perm_importance.importances_mean\n",
    "}).sort_values(by='permutation_importance', ascending=False)\n",
    "\n",
    "fi_df4"
   ]
  },
  {
   "cell_type": "markdown",
   "metadata": {},
   "source": [
    "## Technique 5 - LASSO"
   ]
  },
  {
   "cell_type": "code",
   "execution_count": 21,
   "metadata": {},
   "outputs": [
    {
     "data": {
      "text/html": [
       "<div>\n",
       "<style scoped>\n",
       "    .dataframe tbody tr th:only-of-type {\n",
       "        vertical-align: middle;\n",
       "    }\n",
       "\n",
       "    .dataframe tbody tr th {\n",
       "        vertical-align: top;\n",
       "    }\n",
       "\n",
       "    .dataframe thead th {\n",
       "        text-align: right;\n",
       "    }\n",
       "</style>\n",
       "<table border=\"1\" class=\"dataframe\">\n",
       "  <thead>\n",
       "    <tr style=\"text-align: right;\">\n",
       "      <th></th>\n",
       "      <th>feature</th>\n",
       "      <th>lasso_coeff</th>\n",
       "    </tr>\n",
       "  </thead>\n",
       "  <tbody>\n",
       "    <tr>\n",
       "      <th>3</th>\n",
       "      <td>bathroom</td>\n",
       "      <td>1.032372</td>\n",
       "    </tr>\n",
       "    <tr>\n",
       "      <th>1</th>\n",
       "      <td>carpet_area</td>\n",
       "      <td>0.899881</td>\n",
       "    </tr>\n",
       "    <tr>\n",
       "      <th>6</th>\n",
       "      <td>additional_room</td>\n",
       "      <td>0.427494</td>\n",
       "    </tr>\n",
       "    <tr>\n",
       "      <th>7</th>\n",
       "      <td>regions</td>\n",
       "      <td>0.149148</td>\n",
       "    </tr>\n",
       "    <tr>\n",
       "      <th>8</th>\n",
       "      <td>balconies_iter</td>\n",
       "      <td>0.024730</td>\n",
       "    </tr>\n",
       "    <tr>\n",
       "      <th>9</th>\n",
       "      <td>furnished_status_imputed</td>\n",
       "      <td>0.009430</td>\n",
       "    </tr>\n",
       "    <tr>\n",
       "      <th>4</th>\n",
       "      <td>status</td>\n",
       "      <td>0.007615</td>\n",
       "    </tr>\n",
       "    <tr>\n",
       "      <th>2</th>\n",
       "      <td>bedroom</td>\n",
       "      <td>0.000000</td>\n",
       "    </tr>\n",
       "    <tr>\n",
       "      <th>0</th>\n",
       "      <td>property_type</td>\n",
       "      <td>-0.008092</td>\n",
       "    </tr>\n",
       "    <tr>\n",
       "      <th>5</th>\n",
       "      <td>transaction_type</td>\n",
       "      <td>-0.120982</td>\n",
       "    </tr>\n",
       "    <tr>\n",
       "      <th>10</th>\n",
       "      <td>luxury_category</td>\n",
       "      <td>-0.163598</td>\n",
       "    </tr>\n",
       "    <tr>\n",
       "      <th>11</th>\n",
       "      <td>floor_category</td>\n",
       "      <td>-0.254185</td>\n",
       "    </tr>\n",
       "  </tbody>\n",
       "</table>\n",
       "</div>"
      ],
      "text/plain": [
       "                     feature  lasso_coeff\n",
       "3                   bathroom     1.032372\n",
       "1                carpet_area     0.899881\n",
       "6            additional_room     0.427494\n",
       "7                    regions     0.149148\n",
       "8             balconies_iter     0.024730\n",
       "9   furnished_status_imputed     0.009430\n",
       "4                     status     0.007615\n",
       "2                    bedroom     0.000000\n",
       "0              property_type    -0.008092\n",
       "5           transaction_type    -0.120982\n",
       "10           luxury_category    -0.163598\n",
       "11            floor_category    -0.254185"
      ]
     },
     "execution_count": 21,
     "metadata": {},
     "output_type": "execute_result"
    }
   ],
   "source": [
    "from sklearn.linear_model import Lasso\n",
    "from sklearn.preprocessing import StandardScaler\n",
    "\n",
    "# Standardize the features\n",
    "scaler = StandardScaler()\n",
    "X_scaled = scaler.fit_transform(X_label)\n",
    "\n",
    "# Train a LASSO regression model\n",
    "# We'll use a relatively small value for alpha (the regularization strength) for demonstration purposes\n",
    "lasso = Lasso(alpha=0.01, random_state=42)\n",
    "lasso.fit(X_scaled, y_label)\n",
    "\n",
    "# Extract coefficients\n",
    "fi_df5 = pd.DataFrame({\n",
    "    'feature': X_label.columns,\n",
    "    'lasso_coeff': lasso.coef_\n",
    "}).sort_values(by='lasso_coeff', ascending=False)\n",
    "\n",
    "fi_df5"
   ]
  },
  {
   "cell_type": "markdown",
   "metadata": {},
   "source": [
    "## Technique 6 - RFE-Recursive Feature Elimination"
   ]
  },
  {
   "cell_type": "code",
   "execution_count": 22,
   "metadata": {},
   "outputs": [
    {
     "data": {
      "text/html": [
       "<div>\n",
       "<style scoped>\n",
       "    .dataframe tbody tr th:only-of-type {\n",
       "        vertical-align: middle;\n",
       "    }\n",
       "\n",
       "    .dataframe tbody tr th {\n",
       "        vertical-align: top;\n",
       "    }\n",
       "\n",
       "    .dataframe thead th {\n",
       "        text-align: right;\n",
       "    }\n",
       "</style>\n",
       "<table border=\"1\" class=\"dataframe\">\n",
       "  <thead>\n",
       "    <tr style=\"text-align: right;\">\n",
       "      <th></th>\n",
       "      <th>feature</th>\n",
       "      <th>rfe_score</th>\n",
       "    </tr>\n",
       "  </thead>\n",
       "  <tbody>\n",
       "    <tr>\n",
       "      <th>1</th>\n",
       "      <td>carpet_area</td>\n",
       "      <td>0.507707</td>\n",
       "    </tr>\n",
       "    <tr>\n",
       "      <th>7</th>\n",
       "      <td>regions</td>\n",
       "      <td>0.146083</td>\n",
       "    </tr>\n",
       "    <tr>\n",
       "      <th>3</th>\n",
       "      <td>bathroom</td>\n",
       "      <td>0.087774</td>\n",
       "    </tr>\n",
       "    <tr>\n",
       "      <th>11</th>\n",
       "      <td>floor_category</td>\n",
       "      <td>0.065198</td>\n",
       "    </tr>\n",
       "    <tr>\n",
       "      <th>0</th>\n",
       "      <td>property_type</td>\n",
       "      <td>0.043969</td>\n",
       "    </tr>\n",
       "    <tr>\n",
       "      <th>8</th>\n",
       "      <td>balconies_iter</td>\n",
       "      <td>0.041024</td>\n",
       "    </tr>\n",
       "    <tr>\n",
       "      <th>2</th>\n",
       "      <td>bedroom</td>\n",
       "      <td>0.030288</td>\n",
       "    </tr>\n",
       "    <tr>\n",
       "      <th>9</th>\n",
       "      <td>furnished_status_imputed</td>\n",
       "      <td>0.026778</td>\n",
       "    </tr>\n",
       "    <tr>\n",
       "      <th>10</th>\n",
       "      <td>luxury_category</td>\n",
       "      <td>0.024183</td>\n",
       "    </tr>\n",
       "    <tr>\n",
       "      <th>6</th>\n",
       "      <td>additional_room</td>\n",
       "      <td>0.016168</td>\n",
       "    </tr>\n",
       "    <tr>\n",
       "      <th>5</th>\n",
       "      <td>transaction_type</td>\n",
       "      <td>0.009715</td>\n",
       "    </tr>\n",
       "    <tr>\n",
       "      <th>4</th>\n",
       "      <td>status</td>\n",
       "      <td>0.001112</td>\n",
       "    </tr>\n",
       "  </tbody>\n",
       "</table>\n",
       "</div>"
      ],
      "text/plain": [
       "                     feature  rfe_score\n",
       "1                carpet_area   0.507707\n",
       "7                    regions   0.146083\n",
       "3                   bathroom   0.087774\n",
       "11            floor_category   0.065198\n",
       "0              property_type   0.043969\n",
       "8             balconies_iter   0.041024\n",
       "2                    bedroom   0.030288\n",
       "9   furnished_status_imputed   0.026778\n",
       "10           luxury_category   0.024183\n",
       "6            additional_room   0.016168\n",
       "5           transaction_type   0.009715\n",
       "4                     status   0.001112"
      ]
     },
     "execution_count": 22,
     "metadata": {},
     "output_type": "execute_result"
    }
   ],
   "source": [
    "from sklearn.feature_selection import RFE\n",
    "\n",
    "# Initialize the base estimator\n",
    "estimator = RandomForestRegressor()\n",
    "\n",
    "# Apply RFE on the label-encoded and standardized training data\n",
    "selector_label = RFE(estimator, n_features_to_select=X_label.shape[1], step=1)\n",
    "selector_label = selector_label.fit(X_label, y_label)\n",
    "\n",
    "# Get the selected features based on RFE\n",
    "selected_features = X_label.columns[selector_label.support_]\n",
    "\n",
    "# Extract the coefficients for the selected features from the underlying linear regression model\n",
    "selected_coefficients = selector_label.estimator_.feature_importances_\n",
    "\n",
    "# Organize the results into a DataFrame\n",
    "fi_df6 = pd.DataFrame({\n",
    "    'feature': selected_features,\n",
    "    'rfe_score': selected_coefficients\n",
    "}).sort_values(by='rfe_score', ascending=False)\n",
    "\n",
    "fi_df6"
   ]
  },
  {
   "cell_type": "markdown",
   "metadata": {},
   "source": [
    "## Technique 7 - Linear Regression Weights"
   ]
  },
  {
   "cell_type": "code",
   "execution_count": 23,
   "metadata": {},
   "outputs": [
    {
     "data": {
      "text/html": [
       "<div>\n",
       "<style scoped>\n",
       "    .dataframe tbody tr th:only-of-type {\n",
       "        vertical-align: middle;\n",
       "    }\n",
       "\n",
       "    .dataframe tbody tr th {\n",
       "        vertical-align: top;\n",
       "    }\n",
       "\n",
       "    .dataframe thead th {\n",
       "        text-align: right;\n",
       "    }\n",
       "</style>\n",
       "<table border=\"1\" class=\"dataframe\">\n",
       "  <thead>\n",
       "    <tr style=\"text-align: right;\">\n",
       "      <th></th>\n",
       "      <th>feature</th>\n",
       "      <th>reg_coeffs</th>\n",
       "    </tr>\n",
       "  </thead>\n",
       "  <tbody>\n",
       "    <tr>\n",
       "      <th>3</th>\n",
       "      <td>bathroom</td>\n",
       "      <td>1.040628</td>\n",
       "    </tr>\n",
       "    <tr>\n",
       "      <th>1</th>\n",
       "      <td>carpet_area</td>\n",
       "      <td>0.907095</td>\n",
       "    </tr>\n",
       "    <tr>\n",
       "      <th>6</th>\n",
       "      <td>additional_room</td>\n",
       "      <td>0.436218</td>\n",
       "    </tr>\n",
       "    <tr>\n",
       "      <th>7</th>\n",
       "      <td>regions</td>\n",
       "      <td>0.156436</td>\n",
       "    </tr>\n",
       "    <tr>\n",
       "      <th>8</th>\n",
       "      <td>balconies_iter</td>\n",
       "      <td>0.029586</td>\n",
       "    </tr>\n",
       "    <tr>\n",
       "      <th>9</th>\n",
       "      <td>furnished_status_imputed</td>\n",
       "      <td>0.022140</td>\n",
       "    </tr>\n",
       "    <tr>\n",
       "      <th>4</th>\n",
       "      <td>status</td>\n",
       "      <td>0.017211</td>\n",
       "    </tr>\n",
       "    <tr>\n",
       "      <th>2</th>\n",
       "      <td>bedroom</td>\n",
       "      <td>-0.004834</td>\n",
       "    </tr>\n",
       "    <tr>\n",
       "      <th>0</th>\n",
       "      <td>property_type</td>\n",
       "      <td>-0.019593</td>\n",
       "    </tr>\n",
       "    <tr>\n",
       "      <th>5</th>\n",
       "      <td>transaction_type</td>\n",
       "      <td>-0.129478</td>\n",
       "    </tr>\n",
       "    <tr>\n",
       "      <th>10</th>\n",
       "      <td>luxury_category</td>\n",
       "      <td>-0.172093</td>\n",
       "    </tr>\n",
       "    <tr>\n",
       "      <th>11</th>\n",
       "      <td>floor_category</td>\n",
       "      <td>-0.261686</td>\n",
       "    </tr>\n",
       "  </tbody>\n",
       "</table>\n",
       "</div>"
      ],
      "text/plain": [
       "                     feature  reg_coeffs\n",
       "3                   bathroom    1.040628\n",
       "1                carpet_area    0.907095\n",
       "6            additional_room    0.436218\n",
       "7                    regions    0.156436\n",
       "8             balconies_iter    0.029586\n",
       "9   furnished_status_imputed    0.022140\n",
       "4                     status    0.017211\n",
       "2                    bedroom   -0.004834\n",
       "0              property_type   -0.019593\n",
       "5           transaction_type   -0.129478\n",
       "10           luxury_category   -0.172093\n",
       "11            floor_category   -0.261686"
      ]
     },
     "execution_count": 23,
     "metadata": {},
     "output_type": "execute_result"
    }
   ],
   "source": [
    "# Train a linear regression model on the label-encoded and standardized training data\n",
    "from sklearn.linear_model import LinearRegression\n",
    "\n",
    "lin_reg = LinearRegression()\n",
    "lin_reg.fit(X_scaled, y_label)\n",
    "\n",
    "# Extract coefficients\n",
    "fi_df7 = pd.DataFrame({\n",
    "    'feature': X_label.columns,\n",
    "    'reg_coeffs': lin_reg.coef_\n",
    "}).sort_values(by='reg_coeffs', ascending=False)\n",
    "\n",
    "fi_df7"
   ]
  },
  {
   "cell_type": "markdown",
   "metadata": {},
   "source": [
    "## Technique 8 - SHAP"
   ]
  },
  {
   "cell_type": "code",
   "execution_count": null,
   "metadata": {},
   "outputs": [],
   "source": [
    "import shap\n",
    "\n",
    "# Compute SHAP values using the trained Random Forest model\n",
    "rf = RandomForestRegressor(n_estimators=100, random_state=42)\n",
    "rf.fit(X_label, y_label)\n",
    "\n",
    "explainer = shap.TreeExplainer(rf)\n",
    "shap_values = explainer.shap_values(X_label)\n",
    "\n",
    "# Summing the absolute SHAP values across all samples to get an overall measure of feature importance\n",
    "shap_sum = np.abs(shap_values).mean(axis=0)\n",
    "\n",
    "shap_values"
   ]
  },
  {
   "cell_type": "code",
   "execution_count": null,
   "metadata": {},
   "outputs": [],
   "source": [
    "fi_df8 = pd.DataFrame({\n",
    "    'feature': X_label.columns,\n",
    "    'SHAP_score': np.abs(shap_values).mean(axis=0)\n",
    "}).sort_values(by='SHAP_score', ascending=False)\n",
    "\n",
    "fi_df8"
   ]
  },
  {
   "cell_type": "markdown",
   "metadata": {},
   "source": [
    "## Technique 9 - Predictive Power Score"
   ]
  },
  {
   "cell_type": "code",
   "execution_count": 14,
   "metadata": {},
   "outputs": [],
   "source": [
    "import ppscore as pps\n",
    "\n",
    "pps_df = pps.matrix(df)"
   ]
  },
  {
   "cell_type": "code",
   "execution_count": 15,
   "metadata": {},
   "outputs": [
    {
     "data": {
      "text/html": [
       "<div>\n",
       "<style scoped>\n",
       "    .dataframe tbody tr th:only-of-type {\n",
       "        vertical-align: middle;\n",
       "    }\n",
       "\n",
       "    .dataframe tbody tr th {\n",
       "        vertical-align: top;\n",
       "    }\n",
       "\n",
       "    .dataframe thead th {\n",
       "        text-align: right;\n",
       "    }\n",
       "</style>\n",
       "<table border=\"1\" class=\"dataframe\">\n",
       "  <thead>\n",
       "    <tr style=\"text-align: right;\">\n",
       "      <th></th>\n",
       "      <th>x</th>\n",
       "      <th>y</th>\n",
       "      <th>ppscore</th>\n",
       "    </tr>\n",
       "  </thead>\n",
       "  <tbody>\n",
       "    <tr>\n",
       "      <th>43</th>\n",
       "      <td>bedroom</td>\n",
       "      <td>bathroom</td>\n",
       "      <td>0.612861</td>\n",
       "    </tr>\n",
       "    <tr>\n",
       "      <th>50</th>\n",
       "      <td>bedroom</td>\n",
       "      <td>luxury_category</td>\n",
       "      <td>0.437989</td>\n",
       "    </tr>\n",
       "    <tr>\n",
       "      <th>55</th>\n",
       "      <td>bathroom</td>\n",
       "      <td>bedroom</td>\n",
       "      <td>0.539199</td>\n",
       "    </tr>\n",
       "    <tr>\n",
       "      <th>63</th>\n",
       "      <td>bathroom</td>\n",
       "      <td>luxury_category</td>\n",
       "      <td>0.485307</td>\n",
       "    </tr>\n",
       "  </tbody>\n",
       "</table>\n",
       "</div>"
      ],
      "text/plain": [
       "           x                y   ppscore\n",
       "43   bedroom         bathroom  0.612861\n",
       "50   bedroom  luxury_category  0.437989\n",
       "55  bathroom          bedroom  0.539199\n",
       "63  bathroom  luxury_category  0.485307"
      ]
     },
     "execution_count": 15,
     "metadata": {},
     "output_type": "execute_result"
    }
   ],
   "source": [
    "pps_df = pps_df[['x','y','ppscore']]\n",
    "pps_df[(pps_df['ppscore'] > 0.4) & (pps_df['ppscore'] < 1)]"
   ]
  },
  {
   "cell_type": "code",
   "execution_count": 24,
   "metadata": {},
   "outputs": [],
   "source": [
    "final_fi_df = fi_df1.merge(fi_df2,on='feature').merge(fi_df3,on='feature').merge(fi_df4,on='feature').merge(fi_df5,on='feature').merge(fi_df6,on='feature').merge(fi_df7,on='feature')"
   ]
  },
  {
   "cell_type": "code",
   "execution_count": 28,
   "metadata": {},
   "outputs": [],
   "source": [
    "final_fi_df.set_index('feature', inplace=True)"
   ]
  },
  {
   "cell_type": "code",
   "execution_count": 29,
   "metadata": {},
   "outputs": [],
   "source": [
    "# normalize the score\n",
    "final_fi_df = final_fi_df.divide(final_fi_df.sum(axis=0), axis=1)"
   ]
  },
  {
   "cell_type": "code",
   "execution_count": 30,
   "metadata": {},
   "outputs": [
    {
     "data": {
      "text/html": [
       "<div>\n",
       "<style scoped>\n",
       "    .dataframe tbody tr th:only-of-type {\n",
       "        vertical-align: middle;\n",
       "    }\n",
       "\n",
       "    .dataframe tbody tr th {\n",
       "        vertical-align: top;\n",
       "    }\n",
       "\n",
       "    .dataframe thead th {\n",
       "        text-align: right;\n",
       "    }\n",
       "</style>\n",
       "<table border=\"1\" class=\"dataframe\">\n",
       "  <thead>\n",
       "    <tr style=\"text-align: right;\">\n",
       "      <th></th>\n",
       "      <th>price</th>\n",
       "      <th>rf_importance</th>\n",
       "      <th>gb_importance</th>\n",
       "      <th>permutation_importance</th>\n",
       "      <th>lasso_coeff</th>\n",
       "      <th>rfe_score</th>\n",
       "      <th>reg_coeffs</th>\n",
       "    </tr>\n",
       "    <tr>\n",
       "      <th>feature</th>\n",
       "      <th></th>\n",
       "      <th></th>\n",
       "      <th></th>\n",
       "      <th></th>\n",
       "      <th></th>\n",
       "      <th></th>\n",
       "      <th></th>\n",
       "    </tr>\n",
       "  </thead>\n",
       "  <tbody>\n",
       "    <tr>\n",
       "      <th>property_type</th>\n",
       "      <td>0.088019</td>\n",
       "      <td>0.043234</td>\n",
       "      <td>0.017276</td>\n",
       "      <td>0.053434</td>\n",
       "      <td>-0.004038</td>\n",
       "      <td>0.043969</td>\n",
       "      <td>-0.009692</td>\n",
       "    </tr>\n",
       "    <tr>\n",
       "      <th>carpet_area</th>\n",
       "      <td>0.246573</td>\n",
       "      <td>0.510144</td>\n",
       "      <td>0.589829</td>\n",
       "      <td>0.644537</td>\n",
       "      <td>0.449084</td>\n",
       "      <td>0.507707</td>\n",
       "      <td>0.448695</td>\n",
       "    </tr>\n",
       "    <tr>\n",
       "      <th>bedroom</th>\n",
       "      <td>0.236891</td>\n",
       "      <td>0.032209</td>\n",
       "      <td>0.024189</td>\n",
       "      <td>0.014985</td>\n",
       "      <td>0.000000</td>\n",
       "      <td>0.030288</td>\n",
       "      <td>-0.002391</td>\n",
       "    </tr>\n",
       "    <tr>\n",
       "      <th>bathroom</th>\n",
       "      <td>0.266183</td>\n",
       "      <td>0.083607</td>\n",
       "      <td>0.057439</td>\n",
       "      <td>0.020898</td>\n",
       "      <td>0.515203</td>\n",
       "      <td>0.087774</td>\n",
       "      <td>0.514747</td>\n",
       "    </tr>\n",
       "    <tr>\n",
       "      <th>status</th>\n",
       "      <td>0.000864</td>\n",
       "      <td>0.001233</td>\n",
       "      <td>0.000006</td>\n",
       "      <td>0.000057</td>\n",
       "      <td>0.003800</td>\n",
       "      <td>0.001112</td>\n",
       "      <td>0.008513</td>\n",
       "    </tr>\n",
       "    <tr>\n",
       "      <th>transaction_type</th>\n",
       "      <td>-0.045159</td>\n",
       "      <td>0.010485</td>\n",
       "      <td>0.001713</td>\n",
       "      <td>0.003366</td>\n",
       "      <td>-0.060376</td>\n",
       "      <td>0.009715</td>\n",
       "      <td>-0.064046</td>\n",
       "    </tr>\n",
       "    <tr>\n",
       "      <th>additional_room</th>\n",
       "      <td>0.149500</td>\n",
       "      <td>0.016909</td>\n",
       "      <td>0.013934</td>\n",
       "      <td>0.003797</td>\n",
       "      <td>0.213340</td>\n",
       "      <td>0.016168</td>\n",
       "      <td>0.215775</td>\n",
       "    </tr>\n",
       "    <tr>\n",
       "      <th>regions</th>\n",
       "      <td>-0.000569</td>\n",
       "      <td>0.146720</td>\n",
       "      <td>0.196021</td>\n",
       "      <td>0.168173</td>\n",
       "      <td>0.074432</td>\n",
       "      <td>0.146083</td>\n",
       "      <td>0.077381</td>\n",
       "    </tr>\n",
       "    <tr>\n",
       "      <th>balconies_iter</th>\n",
       "      <td>0.160464</td>\n",
       "      <td>0.042683</td>\n",
       "      <td>0.013359</td>\n",
       "      <td>0.028653</td>\n",
       "      <td>0.012341</td>\n",
       "      <td>0.041024</td>\n",
       "      <td>0.014635</td>\n",
       "    </tr>\n",
       "    <tr>\n",
       "      <th>furnished_status_imputed</th>\n",
       "      <td>0.005651</td>\n",
       "      <td>0.028353</td>\n",
       "      <td>0.007638</td>\n",
       "      <td>0.005575</td>\n",
       "      <td>0.004706</td>\n",
       "      <td>0.026778</td>\n",
       "      <td>0.010951</td>\n",
       "    </tr>\n",
       "    <tr>\n",
       "      <th>luxury_category</th>\n",
       "      <td>-0.048771</td>\n",
       "      <td>0.022831</td>\n",
       "      <td>0.014239</td>\n",
       "      <td>0.010970</td>\n",
       "      <td>-0.081643</td>\n",
       "      <td>0.024183</td>\n",
       "      <td>-0.085126</td>\n",
       "    </tr>\n",
       "    <tr>\n",
       "      <th>floor_category</th>\n",
       "      <td>-0.059647</td>\n",
       "      <td>0.061593</td>\n",
       "      <td>0.064356</td>\n",
       "      <td>0.045553</td>\n",
       "      <td>-0.126851</td>\n",
       "      <td>0.065198</td>\n",
       "      <td>-0.129443</td>\n",
       "    </tr>\n",
       "  </tbody>\n",
       "</table>\n",
       "</div>"
      ],
      "text/plain": [
       "                             price  rf_importance  gb_importance  \\\n",
       "feature                                                            \n",
       "property_type             0.088019       0.043234       0.017276   \n",
       "carpet_area               0.246573       0.510144       0.589829   \n",
       "bedroom                   0.236891       0.032209       0.024189   \n",
       "bathroom                  0.266183       0.083607       0.057439   \n",
       "status                    0.000864       0.001233       0.000006   \n",
       "transaction_type         -0.045159       0.010485       0.001713   \n",
       "additional_room           0.149500       0.016909       0.013934   \n",
       "regions                  -0.000569       0.146720       0.196021   \n",
       "balconies_iter            0.160464       0.042683       0.013359   \n",
       "furnished_status_imputed  0.005651       0.028353       0.007638   \n",
       "luxury_category          -0.048771       0.022831       0.014239   \n",
       "floor_category           -0.059647       0.061593       0.064356   \n",
       "\n",
       "                          permutation_importance  lasso_coeff  rfe_score  \\\n",
       "feature                                                                    \n",
       "property_type                           0.053434    -0.004038   0.043969   \n",
       "carpet_area                             0.644537     0.449084   0.507707   \n",
       "bedroom                                 0.014985     0.000000   0.030288   \n",
       "bathroom                                0.020898     0.515203   0.087774   \n",
       "status                                  0.000057     0.003800   0.001112   \n",
       "transaction_type                        0.003366    -0.060376   0.009715   \n",
       "additional_room                         0.003797     0.213340   0.016168   \n",
       "regions                                 0.168173     0.074432   0.146083   \n",
       "balconies_iter                          0.028653     0.012341   0.041024   \n",
       "furnished_status_imputed                0.005575     0.004706   0.026778   \n",
       "luxury_category                         0.010970    -0.081643   0.024183   \n",
       "floor_category                          0.045553    -0.126851   0.065198   \n",
       "\n",
       "                          reg_coeffs  \n",
       "feature                               \n",
       "property_type              -0.009692  \n",
       "carpet_area                 0.448695  \n",
       "bedroom                    -0.002391  \n",
       "bathroom                    0.514747  \n",
       "status                      0.008513  \n",
       "transaction_type           -0.064046  \n",
       "additional_room             0.215775  \n",
       "regions                     0.077381  \n",
       "balconies_iter              0.014635  \n",
       "furnished_status_imputed    0.010951  \n",
       "luxury_category            -0.085126  \n",
       "floor_category             -0.129443  "
      ]
     },
     "execution_count": 30,
     "metadata": {},
     "output_type": "execute_result"
    }
   ],
   "source": [
    "final_fi_df"
   ]
  },
  {
   "cell_type": "code",
   "execution_count": 31,
   "metadata": {},
   "outputs": [
    {
     "data": {
      "text/plain": [
       "feature\n",
       "carpet_area                 0.563054\n",
       "regions                     0.164249\n",
       "bathroom                    0.062430\n",
       "floor_category              0.059175\n",
       "property_type               0.039478\n",
       "balconies_iter              0.031430\n",
       "bedroom                     0.025418\n",
       "luxury_category             0.018056\n",
       "furnished_status_imputed    0.017086\n",
       "additional_room             0.012702\n",
       "transaction_type            0.006319\n",
       "status                      0.000602\n",
       "dtype: float64"
      ]
     },
     "execution_count": 31,
     "metadata": {},
     "output_type": "execute_result"
    }
   ],
   "source": [
    "final_fi_df[['rf_importance','gb_importance','permutation_importance','rfe_score']].mean(axis=1).sort_values(ascending=False)"
   ]
  },
  {
   "cell_type": "markdown",
   "metadata": {},
   "source": [
    "- Conclusion :- Status and transaction_type column are contributing enough to model. So, I am going to drop status column."
   ]
  },
  {
   "cell_type": "code",
   "execution_count": 56,
   "metadata": {},
   "outputs": [],
   "source": [
    "def pearson_coefficient(x,y):\n",
    "    x = np.array(x)\n",
    "    y = np.array(y)\n",
    "    x_mean = np.mean(x)\n",
    "    y_mean = np.mean(y)\n",
    "    \n",
    "    numerator = np.sum((x - x_mean) * (y - y_mean))\n",
    "    denominator = np.sqrt(np.sum((x - x_mean)**2)) * np.sqrt(np.sum((y - y_mean)**2))\n",
    "      \n",
    "    r = numerator / denominator\n",
    "    return round(r, 3)"
   ]
  },
  {
   "cell_type": "code",
   "execution_count": null,
   "metadata": {},
   "outputs": [],
   "source": [
    "phy = [23,3,6,4,7,8,9,5,7,7]\n",
    "his = [45,63,63,65,34,64,64,75,64,38]"
   ]
  },
  {
   "cell_type": "code",
   "execution_count": 45,
   "metadata": {},
   "outputs": [
    {
     "data": {
      "text/plain": [
       "21.166246714994134"
      ]
     },
     "execution_count": 45,
     "metadata": {},
     "output_type": "execute_result"
    }
   ],
   "source": [
    "np.std(phy)"
   ]
  },
  {
   "cell_type": "code",
   "execution_count": 58,
   "metadata": {},
   "outputs": [
    {
     "data": {
      "text/plain": [
       "-0.39"
      ]
     },
     "execution_count": 58,
     "metadata": {},
     "output_type": "execute_result"
    }
   ],
   "source": [
    "pearson_coefficient(phy,his)"
   ]
  },
  {
   "cell_type": "code",
   "execution_count": 59,
   "metadata": {},
   "outputs": [
    {
     "data": {
      "text/plain": [
       "-0.097"
      ]
     },
     "execution_count": 59,
     "metadata": {},
     "output_type": "execute_result"
    }
   ],
   "source": [
    "# Enter your code here. Read input from STDIN. Print output to STDOUT\n",
    "\n",
    "def pearson_coefficient(x,y):\n",
    "    x = np.array(x)\n",
    "    y = np.array(y)\n",
    "    x_mean = np.mean(x)\n",
    "    y_mean = np.mean(y)\n",
    "    \n",
    "    numerator = np.sum((x - x_mean) * (y - y_mean))\n",
    "    denominator = np.sqrt(np.sum((x - x_mean)**2)) * np.sqrt(np.sum((y - y_mean)**2))\n",
    "      \n",
    "    r = numerator / denominator\n",
    "    return round(r, 3)\n",
    "    \n",
    "    \n",
    "phy = np.array([23,44,56,34,67,86,85,54,67,87])\n",
    "his = np.array([45,63,63,65,34,64,64,75,64,38])\n",
    "\n",
    "pearson_coefficient(phy,his)\n"
   ]
  },
  {
   "cell_type": "code",
   "execution_count": null,
   "metadata": {},
   "outputs": [],
   "source": [
    "physics = [15, 12, 8, 8, 7, 7, 7, 6, 5, 3]\n",
    "history = [10, 25, 17, 11, 13, 17, 20, 13, 9, 15]\n",
    "\n",
    "n = len(physics)\n",
    "\n",
    "mean_x = sum(physics) / n\n",
    "mean_y = sum(history) / n\n",
    "\n",
    "sum_xy = sum((physics[i] - mean_x) * (history[i] - mean_y) for i in range(n))\n",
    "sum_xx = sum((physics[i] - mean_x)**2 for i in range(n))\n",
    "sum_yy = sum((history[i] - mean_y)**2 for i in range(n))\n",
    "\n",
    "r = sum_xy / (sum_xx*sum_yy)**(1/2)\n",
    "\n",
    "print(f\"{r:.3f}\")"
   ]
  }
 ],
 "metadata": {
  "kernelspec": {
   "display_name": "base",
   "language": "python",
   "name": "python3"
  },
  "language_info": {
   "codemirror_mode": {
    "name": "ipython",
    "version": 3
   },
   "file_extension": ".py",
   "mimetype": "text/x-python",
   "name": "python",
   "nbconvert_exporter": "python",
   "pygments_lexer": "ipython3",
   "version": "3.12.7"
  }
 },
 "nbformat": 4,
 "nbformat_minor": 2
}
